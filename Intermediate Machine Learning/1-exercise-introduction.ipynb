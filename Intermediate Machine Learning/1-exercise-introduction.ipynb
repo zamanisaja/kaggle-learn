{
 "cells": [
  {
   "cell_type": "markdown",
   "metadata": {
    "_cell_guid": "fea118e5-6c65-4d93-bef1-e78c2af6aec4",
    "_uuid": "a02aa04d-ce05-461e-b3e0-c9aedd83f26d"
   },
   "source": [
    "**This notebook is an exercise in the [Intermediate Machine Learning](https://www.kaggle.com/learn/intermediate-machine-learning) course.  You can reference the tutorial at [this link](./1-introduction.ipynb).**\n",
    "\n",
    "---"
   ]
  },
  {
   "cell_type": "markdown",
   "metadata": {
    "_cell_guid": "7b601880-4ada-4f3f-82fa-a6f4aa7d50f5",
    "_uuid": "14edc92b-015d-454f-8a93-e187cf2eb68a"
   },
   "source": [
    "As a warm-up, you'll review some machine learning fundamentals and submit your initial results to a Kaggle competition.\n",
    "\n",
    "# Setup\n",
    "\n",
    "The questions below will give you feedback on your work. Run the following cell to set up the feedback system."
   ]
  },
  {
   "cell_type": "code",
   "execution_count": 1,
   "metadata": {
    "_cell_guid": "db153f2f-595d-42ac-80ca-6e024029a064",
    "_uuid": "dc7d5fa7-9de4-411d-b7ba-734b6f521389",
    "execution": {
     "iopub.execute_input": "2022-08-02T16:01:53.545637Z",
     "iopub.status.busy": "2022-08-02T16:01:53.545147Z",
     "iopub.status.idle": "2022-08-02T16:01:55.253774Z",
     "shell.execute_reply": "2022-08-02T16:01:55.252263Z",
     "shell.execute_reply.started": "2022-08-02T16:01:53.545534Z"
    },
    "jupyter": {
     "outputs_hidden": false
    }
   },
   "outputs": [
    {
     "name": "stdout",
     "output_type": "stream",
     "text": [
      "Setup Complete\n"
     ]
    }
   ],
   "source": [
    "# Set up code checking\n",
    "import os\n",
    "if not os.path.exists(\"../input/train.csv\"):\n",
    "    os.symlink(\"../input/home-data-for-ml-course/train.csv\", \"../input/train.csv\")  \n",
    "    os.symlink(\"../input/home-data-for-ml-course/test.csv\", \"../input/test.csv\")  \n",
    "from learntools.core import binder\n",
    "binder.bind(globals())\n",
    "from learntools.ml_intermediate.ex1 import *\n",
    "print(\"Setup Complete\")"
   ]
  },
  {
   "cell_type": "markdown",
   "metadata": {
    "_cell_guid": "b822ea33-d031-40f9-b0b0-731c49722d27",
    "_uuid": "041a844e-c2a9-4797-b7ab-2a4fbd216c72"
   },
   "source": [
    "You will work with data from the [Housing Prices Competition for Kaggle Learn Users](https://www.kaggle.com/c/home-data-for-ml-course) to predict home prices in Iowa using 79 explanatory variables describing (almost) every aspect of the homes.  \n",
    "\n",
    "![Ames Housing dataset image](https://i.imgur.com/lTJVG4e.png)\n",
    "\n",
    "Run the next code cell without changes to load the training and validation features in `X_train` and `X_valid`, along with the prediction targets in `y_train` and `y_valid`.  The test features are loaded in `X_test`.  (_If you need to review **features** and **prediction targets**, please check out [this short tutorial](https://www.kaggle.com/dansbecker/your-first-machine-learning-model).  To read about model **validation**, look [here](https://www.kaggle.com/dansbecker/model-validation).  Alternatively, if you'd prefer to look through a full course to review all of these topics, start [here](https://www.kaggle.com/learn/machine-learning).)_"
   ]
  },
  {
   "cell_type": "code",
   "execution_count": 2,
   "metadata": {
    "_cell_guid": "677bfaf5-562b-40fe-9559-95c79239ae1b",
    "_uuid": "db848329-749a-4ea8-a995-eb2d5b7ae6c2",
    "execution": {
     "iopub.execute_input": "2022-08-02T16:02:12.079030Z",
     "iopub.status.busy": "2022-08-02T16:02:12.078621Z",
     "iopub.status.idle": "2022-08-02T16:02:12.175459Z",
     "shell.execute_reply": "2022-08-02T16:02:12.174197Z",
     "shell.execute_reply.started": "2022-08-02T16:02:12.078998Z"
    },
    "jupyter": {
     "outputs_hidden": false
    }
   },
   "outputs": [],
   "source": [
    "import pandas as pd\n",
    "from sklearn.model_selection import train_test_split\n",
    "\n",
    "# Read the data\n",
    "X_full = pd.read_csv('../input/train.csv', index_col='Id')\n",
    "X_test_full = pd.read_csv('../input/test.csv', index_col='Id')\n",
    "\n",
    "# Obtain target and predictors\n",
    "y = X_full.SalePrice\n",
    "features = ['LotArea', 'YearBuilt', '1stFlrSF', '2ndFlrSF', 'FullBath', 'BedroomAbvGr', 'TotRmsAbvGrd']\n",
    "X = X_full[features].copy()\n",
    "X_test = X_test_full[features].copy()\n",
    "\n",
    "# Break off validation set from training data\n",
    "X_train, X_valid, y_train, y_valid = train_test_split(X, y, train_size=0.8, test_size=0.2,\n",
    "                                                      random_state=0)"
   ]
  },
  {
   "cell_type": "markdown",
   "metadata": {
    "_cell_guid": "b37a7d9a-cc1e-4773-834d-5621a7a1801f",
    "_uuid": "474243a8-4b4c-4881-bf8a-bf6335e3ea83"
   },
   "source": [
    "Use the next cell to print the first several rows of the data. It's a nice way to get an overview of the data you will use in your price prediction model."
   ]
  },
  {
   "cell_type": "code",
   "execution_count": 3,
   "metadata": {
    "_cell_guid": "d492b9d6-c3c2-4cca-ada7-bc5d3a00e378",
    "_uuid": "32adafad-c319-4b18-b76a-c09d354c2faf",
    "execution": {
     "iopub.execute_input": "2022-08-02T16:03:03.750182Z",
     "iopub.status.busy": "2022-08-02T16:03:03.749666Z",
     "iopub.status.idle": "2022-08-02T16:03:03.774687Z",
     "shell.execute_reply": "2022-08-02T16:03:03.773381Z",
     "shell.execute_reply.started": "2022-08-02T16:03:03.750148Z"
    },
    "jupyter": {
     "outputs_hidden": false
    }
   },
   "outputs": [
    {
     "data": {
      "text/html": [
       "<div>\n",
       "<style scoped>\n",
       "    .dataframe tbody tr th:only-of-type {\n",
       "        vertical-align: middle;\n",
       "    }\n",
       "\n",
       "    .dataframe tbody tr th {\n",
       "        vertical-align: top;\n",
       "    }\n",
       "\n",
       "    .dataframe thead th {\n",
       "        text-align: right;\n",
       "    }\n",
       "</style>\n",
       "<table border=\"1\" class=\"dataframe\">\n",
       "  <thead>\n",
       "    <tr style=\"text-align: right;\">\n",
       "      <th></th>\n",
       "      <th>LotArea</th>\n",
       "      <th>YearBuilt</th>\n",
       "      <th>1stFlrSF</th>\n",
       "      <th>2ndFlrSF</th>\n",
       "      <th>FullBath</th>\n",
       "      <th>BedroomAbvGr</th>\n",
       "      <th>TotRmsAbvGrd</th>\n",
       "    </tr>\n",
       "    <tr>\n",
       "      <th>Id</th>\n",
       "      <th></th>\n",
       "      <th></th>\n",
       "      <th></th>\n",
       "      <th></th>\n",
       "      <th></th>\n",
       "      <th></th>\n",
       "      <th></th>\n",
       "    </tr>\n",
       "  </thead>\n",
       "  <tbody>\n",
       "    <tr>\n",
       "      <th>619</th>\n",
       "      <td>11694</td>\n",
       "      <td>2007</td>\n",
       "      <td>1828</td>\n",
       "      <td>0</td>\n",
       "      <td>2</td>\n",
       "      <td>3</td>\n",
       "      <td>9</td>\n",
       "    </tr>\n",
       "    <tr>\n",
       "      <th>871</th>\n",
       "      <td>6600</td>\n",
       "      <td>1962</td>\n",
       "      <td>894</td>\n",
       "      <td>0</td>\n",
       "      <td>1</td>\n",
       "      <td>2</td>\n",
       "      <td>5</td>\n",
       "    </tr>\n",
       "    <tr>\n",
       "      <th>93</th>\n",
       "      <td>13360</td>\n",
       "      <td>1921</td>\n",
       "      <td>964</td>\n",
       "      <td>0</td>\n",
       "      <td>1</td>\n",
       "      <td>2</td>\n",
       "      <td>5</td>\n",
       "    </tr>\n",
       "    <tr>\n",
       "      <th>818</th>\n",
       "      <td>13265</td>\n",
       "      <td>2002</td>\n",
       "      <td>1689</td>\n",
       "      <td>0</td>\n",
       "      <td>2</td>\n",
       "      <td>3</td>\n",
       "      <td>7</td>\n",
       "    </tr>\n",
       "    <tr>\n",
       "      <th>303</th>\n",
       "      <td>13704</td>\n",
       "      <td>2001</td>\n",
       "      <td>1541</td>\n",
       "      <td>0</td>\n",
       "      <td>2</td>\n",
       "      <td>3</td>\n",
       "      <td>6</td>\n",
       "    </tr>\n",
       "  </tbody>\n",
       "</table>\n",
       "</div>"
      ],
      "text/plain": [
       "     LotArea  YearBuilt  1stFlrSF  2ndFlrSF  FullBath  BedroomAbvGr  \\\n",
       "Id                                                                    \n",
       "619    11694       2007      1828         0         2             3   \n",
       "871     6600       1962       894         0         1             2   \n",
       "93     13360       1921       964         0         1             2   \n",
       "818    13265       2002      1689         0         2             3   \n",
       "303    13704       2001      1541         0         2             3   \n",
       "\n",
       "     TotRmsAbvGrd  \n",
       "Id                 \n",
       "619             9  \n",
       "871             5  \n",
       "93              5  \n",
       "818             7  \n",
       "303             6  "
      ]
     },
     "execution_count": 3,
     "metadata": {},
     "output_type": "execute_result"
    }
   ],
   "source": [
    "X_train.head()"
   ]
  },
  {
   "cell_type": "markdown",
   "metadata": {
    "_cell_guid": "ef101161-bb6c-49eb-a8cc-75d88f129d3e",
    "_uuid": "aa67079c-4bad-4728-aa5f-683bc4e7eed1"
   },
   "source": [
    "The next code cell defines five different random forest models.  Run this code cell without changes.  (_To review **random forests**, look [here](https://www.kaggle.com/dansbecker/random-forests)._)"
   ]
  },
  {
   "cell_type": "code",
   "execution_count": 4,
   "metadata": {
    "_cell_guid": "efcdc64c-c97e-40f6-a440-3edab1e02a38",
    "_uuid": "ac0748b0-82e2-4518-b7b2-e8ea9ac4f962",
    "execution": {
     "iopub.execute_input": "2022-08-02T16:03:22.028138Z",
     "iopub.status.busy": "2022-08-02T16:03:22.027598Z",
     "iopub.status.idle": "2022-08-02T16:03:22.037807Z",
     "shell.execute_reply": "2022-08-02T16:03:22.036287Z",
     "shell.execute_reply.started": "2022-08-02T16:03:22.028094Z"
    },
    "jupyter": {
     "outputs_hidden": false
    }
   },
   "outputs": [],
   "source": [
    "from sklearn.ensemble import RandomForestRegressor\n",
    "\n",
    "# Define the models\n",
    "model_1 = RandomForestRegressor(n_estimators=50, random_state=0)\n",
    "model_2 = RandomForestRegressor(n_estimators=100, random_state=0)\n",
    "model_3 = RandomForestRegressor(n_estimators=100, criterion='absolute_error', random_state=0)\n",
    "model_4 = RandomForestRegressor(n_estimators=200, min_samples_split=20, random_state=0)\n",
    "model_5 = RandomForestRegressor(n_estimators=100, max_depth=7, random_state=0)\n",
    "\n",
    "models = [model_1, model_2, model_3, model_4, model_5]"
   ]
  },
  {
   "cell_type": "markdown",
   "metadata": {
    "_cell_guid": "1ce81065-d2aa-45d1-aa45-ac3744ed6e6c",
    "_uuid": "cbf2aaf7-7b48-47ed-a50a-6ea7f3a9f788"
   },
   "source": [
    "To select the best model out of the five, we define a function `score_model()` below.  This function returns the mean absolute error (MAE) from the validation set.  Recall that the best model will obtain the lowest MAE.  (_To review **mean absolute error**, look [here](https://www.kaggle.com/dansbecker/model-validation).)_\n",
    "\n",
    "Run the code cell without changes."
   ]
  },
  {
   "cell_type": "code",
   "execution_count": 5,
   "metadata": {
    "_cell_guid": "1578f955-9974-4011-95ee-59b1c699a729",
    "_uuid": "a80802a7-b4e2-43d5-b8b8-087cb44c76d1",
    "execution": {
     "iopub.execute_input": "2022-08-02T16:03:42.876312Z",
     "iopub.status.busy": "2022-08-02T16:03:42.875745Z",
     "iopub.status.idle": "2022-08-02T16:03:47.509051Z",
     "shell.execute_reply": "2022-08-02T16:03:47.507738Z",
     "shell.execute_reply.started": "2022-08-02T16:03:42.876249Z"
    },
    "jupyter": {
     "outputs_hidden": false
    }
   },
   "outputs": [
    {
     "name": "stdout",
     "output_type": "stream",
     "text": [
      "Model 1 MAE: 24015\n",
      "Model 2 MAE: 23740\n",
      "Model 3 MAE: 23528\n",
      "Model 4 MAE: 23996\n",
      "Model 5 MAE: 23706\n"
     ]
    }
   ],
   "source": [
    "from sklearn.metrics import mean_absolute_error\n",
    "\n",
    "# Function for comparing different models\n",
    "def score_model(model, X_t=X_train, X_v=X_valid, y_t=y_train, y_v=y_valid):\n",
    "    model.fit(X_t, y_t)\n",
    "    preds = model.predict(X_v)\n",
    "    return mean_absolute_error(y_v, preds)\n",
    "\n",
    "for i in range(0, len(models)):\n",
    "    mae = score_model(models[i])\n",
    "    print(\"Model %d MAE: %d\" % (i+1, mae))"
   ]
  },
  {
   "cell_type": "markdown",
   "metadata": {
    "_cell_guid": "69236b78-f827-4933-82b8-ce2b9c7e3b50",
    "_uuid": "bf9c5c08-24e8-4e99-8a33-443dc5e27453"
   },
   "source": [
    "# Step 1: Evaluate several models\n",
    "\n",
    "Use the above results to fill in the line below.  Which model is the best model?  Your answer should be one of `model_1`, `model_2`, `model_3`, `model_4`, or `model_5`."
   ]
  },
  {
   "cell_type": "code",
   "execution_count": 6,
   "metadata": {
    "_cell_guid": "58ecc0b0-4e14-4648-a524-b28a4a86eea7",
    "_uuid": "9f4b24e0-2ddc-43dd-ae58-e237bf3eafda",
    "execution": {
     "iopub.execute_input": "2022-08-02T16:04:23.796808Z",
     "iopub.status.busy": "2022-08-02T16:04:23.795491Z",
     "iopub.status.idle": "2022-08-02T16:04:23.806860Z",
     "shell.execute_reply": "2022-08-02T16:04:23.805714Z",
     "shell.execute_reply.started": "2022-08-02T16:04:23.796719Z"
    },
    "jupyter": {
     "outputs_hidden": false
    }
   },
   "outputs": [],
   "source": [
    "# Fill in the best model\n",
    "best_model = model_3"
   ]
  },
  {
   "cell_type": "markdown",
   "metadata": {
    "_cell_guid": "0f488a50-6f5a-46ad-a224-95c05a5f64c2",
    "_uuid": "3ff52174-beb5-42d9-9f55-fa3f72809210"
   },
   "source": [
    "# Step 2: Generate test predictions\n",
    "\n",
    "Great. You know how to evaluate what makes an accurate model. Now it's time to go through the modeling process and make predictions. In the line below, create a Random Forest model with the variable name `my_model`."
   ]
  },
  {
   "cell_type": "code",
   "execution_count": 7,
   "metadata": {
    "_cell_guid": "a8a9f918-acdd-4560-a2bf-3e5d523d38b4",
    "_uuid": "05018330-8ce0-4ef3-b7a4-48143c699f37",
    "execution": {
     "iopub.execute_input": "2022-08-02T16:05:25.925667Z",
     "iopub.status.busy": "2022-08-02T16:05:25.925076Z",
     "iopub.status.idle": "2022-08-02T16:05:25.944297Z",
     "shell.execute_reply": "2022-08-02T16:05:25.943089Z",
     "shell.execute_reply.started": "2022-08-02T16:05:25.925613Z"
    },
    "jupyter": {
     "outputs_hidden": false
    }
   },
   "outputs": [],
   "source": [
    "# Define a model\n",
    "my_model = model_3 # Your code here"
   ]
  },
  {
   "cell_type": "markdown",
   "metadata": {
    "_cell_guid": "d48da992-4aac-4556-80a6-8e5931684a94",
    "_uuid": "4341edb7-130e-49a1-8f50-d48caca95203"
   },
   "source": [
    "Run the next code cell without changes.  The code fits the model to the training and validation data, and then generates test predictions that are saved to a CSV file.  These test predictions can be submitted directly to the competition!"
   ]
  },
  {
   "cell_type": "code",
   "execution_count": 10,
   "metadata": {
    "_cell_guid": "5a4a647a-2389-4851-8f66-81065aba1f91",
    "_uuid": "f9e783fe-c61a-468f-973b-c866d65c737f",
    "execution": {
     "iopub.execute_input": "2022-08-02T16:05:40.142464Z",
     "iopub.status.busy": "2022-08-02T16:05:40.142026Z",
     "iopub.status.idle": "2022-08-02T16:05:44.205968Z",
     "shell.execute_reply": "2022-08-02T16:05:44.204863Z",
     "shell.execute_reply.started": "2022-08-02T16:05:40.142426Z"
    },
    "jupyter": {
     "outputs_hidden": false
    }
   },
   "outputs": [
    {
     "name": "stdout",
     "output_type": "stream",
     "text": [
      "     Id  SalePrice\n",
      "0  1461  119433.08\n",
      "1  1462  158367.50\n",
      "2  1463  185351.21\n",
      "3  1464  178343.12\n",
      "4  1465  192898.29\n"
     ]
    }
   ],
   "source": [
    "# Fit the model to the training data\n",
    "my_model.fit(X, y)\n",
    "\n",
    "# Generate test predictions\n",
    "preds_test = my_model.predict(X_test)\n",
    "\n",
    "# Save predictions in format used for competition scoring\n",
    "output = pd.DataFrame({'Id': X_test.index,\n",
    "                       'SalePrice': preds_test})\n",
    "\n",
    "print(output.head())\n",
    "# output.to_csv('submission.csv', index=False)"
   ]
  },
  {
   "cell_type": "markdown",
   "metadata": {
    "_cell_guid": "26f246a7-78ff-4900-993f-66cb158e6562",
    "_uuid": "ae748cbf-91c3-478e-9ad9-a446657ab494"
   },
   "source": [
    "# Keep going\n",
    "\n",
    "You've made your first model. But how can you quickly make it better?\n",
    "\n",
    "Learn how to improve your competition results by incorporating columns with **[missing values](./2-missing-values.ipynb)**."
   ]
  },
  {
   "cell_type": "markdown",
   "metadata": {
    "_cell_guid": "5d097042-5169-4df6-9e27-8709c6f28b00",
    "_uuid": "c98861e6-a67b-45d3-9080-91167fa97475"
   },
   "source": [
    "---\n",
    "\n",
    "\n",
    "\n",
    "\n",
    "*Have questions or comments? Visit the [course discussion forum](https://www.kaggle.com/learn/intermediate-machine-learning/discussion) to chat with other learners.*"
   ]
  }
 ],
 "metadata": {
  "kernelspec": {
   "display_name": "Python 3.10.5 ('kaggle')",
   "language": "python",
   "name": "python3"
  },
  "language_info": {
   "codemirror_mode": {
    "name": "ipython",
    "version": 3
   },
   "file_extension": ".py",
   "mimetype": "text/x-python",
   "name": "python",
   "nbconvert_exporter": "python",
   "pygments_lexer": "ipython3",
   "version": "3.10.5"
  },
  "vscode": {
   "interpreter": {
    "hash": "e4ed1ec8855a62064c619c0d2fa574b8b147199d51dd235074c0ce2edf822ef7"
   }
  }
 },
 "nbformat": 4,
 "nbformat_minor": 4
}
