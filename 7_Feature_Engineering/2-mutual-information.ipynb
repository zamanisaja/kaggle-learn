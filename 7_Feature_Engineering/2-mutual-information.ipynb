{
 "cells": [
  {
   "cell_type": "markdown",
   "id": "2642dacc",
   "metadata": {
    "papermill": {
     "duration": 0.01546,
     "end_time": "2022-05-05T12:49:40.856863",
     "exception": false,
     "start_time": "2022-05-05T12:49:40.841403",
     "status": "completed"
    },
    "tags": []
   },
   "source": [
    "# Introduction #\n",
    "\n",
    "First encountering a new dataset can sometimes feel overwhelming. You might be presented with hundreds or thousands of features without even a description to go by. Where do you even begin?\n",
    "\n",
    "A great first step is to construct a ranking with a **feature utility metric**, a function measuring associations between a feature and the target. Then you can choose a smaller set of the most useful features to develop initially and have more confidence that your time will be well spent.\n",
    "\n",
    "The metric we'll use is called \"mutual information\". Mutual information is a lot like correlation in that it measures a relationship between two quantities. The advantage of mutual information is that it can detect *any* kind of relationship, while correlation only detects *linear* relationships.\n",
    "\n",
    "Mutual information is a great general-purpose metric and especially useful at the start of feature development when you might not know what model you'd like to use yet. It is:\n",
    "- easy to use and interpret,\n",
    "- computationally efficient,\n",
    "- theoretically well-founded,\n",
    "- resistant to overfitting, and,\n",
    "- able to detect any kind of relationship\n",
    "\n",
    "# Mutual Information and What it Measures #\n",
    "\n",
    "Mutual information describes relationships in terms of *uncertainty*. The **mutual information** (MI) between two quantities is a measure of the extent to which knowledge of one quantity reduces uncertainty about the other. If you knew the value of a feature, how much more confident would you be about the target?\n",
    "\n",
    "Here's an example from the *Ames Housing* data. The figure shows the relationship between the exterior quality of a house and the price it sold for. Each point represents a house.\n",
    "\n",
    "<figure style=\"padding: 1em;\">\n",
    "<img src=\"https://i.imgur.com/X12ARUK.png\" width=400, alt=\"Four categories of ExterQual: Fair, Typical, Good, Excellent. A scatter plot of SalePrice within each category.\">\n",
    "<figcaption style=\"textalign: center; font-style: italic\"><center>Knowing the exterior quality of a house reduces uncertainty about its sale price.\n",
    "</center></figcaption>\n",
    "</figure>\n",
    "\n",
    "From the figure, we can see that knowing the value of `ExterQual` should make you more certain about the corresponding `SalePrice` -- each category of `ExterQual` tends to concentrate `SalePrice` to within a certain range. The mutual information that `ExterQual` has with `SalePrice` is the average reduction of uncertainty in `SalePrice` taken over the four values of `ExterQual`. Since `Fair` occurs less often than `Typical`, for instance, `Fair` gets less weight in the MI score.\n",
    "\n",
    "(Technical note: What we're calling uncertainty is measured using a quantity from information theory known as \"entropy\". The entropy of a variable means roughly: \"how many yes-or-no questions you would need to describe an occurance of that variable, on average.\" The more questions you have to ask, the more uncertain you must be about the variable. Mutual information is how many questions you expect the feature to answer about the target.)\n",
    "\n",
    "# Interpreting Mutual Information Scores #\n",
    "\n",
    "The least possible mutual information between quantities is 0.0. When MI is zero, the quantities are independent: neither can tell you anything about the other. Conversely, in theory there's no upper bound to what MI can be. In practice though values above 2.0 or so are uncommon. (Mutual information is a logarithmic quantity, so it increases very slowly.)\n",
    "\n",
    "The next figure will give you an idea of how MI values correspond to the kind and degree of association a feature has with the target.\n",
    "\n",
    "<figure style=\"padding: 1em;\">\n",
    "<img src=\"https://i.imgur.com/Dt75E1f.png\" width=800, alt=\"\">\n",
    "<figcaption style=\"textalign: center; font-style: italic\"><center><strong>Left:</strong> Mutual information increases as the dependence between feature and target becomes tighter. <strong>Right:</strong> Mutual information can capture any kind of association (not just linear, like correlation.)\n",
    "</center></figcaption>\n",
    "</figure>\n",
    "\n",
    "Here are some things to remember when applying mutual information:\n",
    "- MI can help you to understand the *relative potential* of a feature as a predictor of the target, considered by itself.\n",
    "- It's possible for a feature to be very informative when interacting with other features, but not so informative all alone. MI *can't detect interactions* between features. It is a **univariate** metric.\n",
    "- The *actual* usefulness of a feature *depends on the model you use it with*. A feature is only useful to the extent that its relationship with the target is one your model can learn. Just because a feature has a high MI score doesn't mean your model will be able to do anything with that information. You may need to transform the feature first to expose the association.\n",
    "\n",
    "# Example - 1985 Automobiles #\n",
    "\n",
    "The [*Automobile*](https://www.kaggle.com/toramky/automobile-dataset) dataset consists of 193 cars from the 1985 model year. The goal for this dataset is to predict a car's `price` (the target) from 23 of the car's features, such as `make`, `body_style`, and `horsepower`. In this example, we'll rank the features with mutual information and investigate the results by data visualization.\n",
    "\n",
    "This hidden cell imports some libraries and loads the dataset."
   ]
  },
  {
   "cell_type": "code",
   "execution_count": 1,
   "id": "7f4da548",
   "metadata": {
    "_kg_hide-input": true,
    "execution": {
     "iopub.execute_input": "2022-05-05T12:49:40.888767Z",
     "iopub.status.busy": "2022-05-05T12:49:40.888023Z",
     "iopub.status.idle": "2022-05-05T12:49:41.916754Z",
     "shell.execute_reply": "2022-05-05T12:49:41.916053Z"
    },
    "papermill": {
     "duration": 1.047784,
     "end_time": "2022-05-05T12:49:41.919913",
     "exception": false,
     "start_time": "2022-05-05T12:49:40.872129",
     "status": "completed"
    },
    "tags": []
   },
   "outputs": [
    {
     "data": {
      "text/html": [
       "<div>\n",
       "<style scoped>\n",
       "    .dataframe tbody tr th:only-of-type {\n",
       "        vertical-align: middle;\n",
       "    }\n",
       "\n",
       "    .dataframe tbody tr th {\n",
       "        vertical-align: top;\n",
       "    }\n",
       "\n",
       "    .dataframe thead th {\n",
       "        text-align: right;\n",
       "    }\n",
       "</style>\n",
       "<table border=\"1\" class=\"dataframe\">\n",
       "  <thead>\n",
       "    <tr style=\"text-align: right;\">\n",
       "      <th></th>\n",
       "      <th>symboling</th>\n",
       "      <th>make</th>\n",
       "      <th>fuel_type</th>\n",
       "      <th>aspiration</th>\n",
       "      <th>num_of_doors</th>\n",
       "      <th>body_style</th>\n",
       "      <th>drive_wheels</th>\n",
       "      <th>engine_location</th>\n",
       "      <th>wheel_base</th>\n",
       "      <th>length</th>\n",
       "      <th>...</th>\n",
       "      <th>engine_size</th>\n",
       "      <th>fuel_system</th>\n",
       "      <th>bore</th>\n",
       "      <th>stroke</th>\n",
       "      <th>compression_ratio</th>\n",
       "      <th>horsepower</th>\n",
       "      <th>peak_rpm</th>\n",
       "      <th>city_mpg</th>\n",
       "      <th>highway_mpg</th>\n",
       "      <th>price</th>\n",
       "    </tr>\n",
       "  </thead>\n",
       "  <tbody>\n",
       "    <tr>\n",
       "      <th>0</th>\n",
       "      <td>3</td>\n",
       "      <td>alfa-romero</td>\n",
       "      <td>gas</td>\n",
       "      <td>std</td>\n",
       "      <td>2</td>\n",
       "      <td>convertible</td>\n",
       "      <td>rwd</td>\n",
       "      <td>front</td>\n",
       "      <td>88.6</td>\n",
       "      <td>168.8</td>\n",
       "      <td>...</td>\n",
       "      <td>130</td>\n",
       "      <td>mpfi</td>\n",
       "      <td>3.47</td>\n",
       "      <td>2.68</td>\n",
       "      <td>9</td>\n",
       "      <td>111</td>\n",
       "      <td>5000</td>\n",
       "      <td>21</td>\n",
       "      <td>27</td>\n",
       "      <td>13495</td>\n",
       "    </tr>\n",
       "    <tr>\n",
       "      <th>1</th>\n",
       "      <td>3</td>\n",
       "      <td>alfa-romero</td>\n",
       "      <td>gas</td>\n",
       "      <td>std</td>\n",
       "      <td>2</td>\n",
       "      <td>convertible</td>\n",
       "      <td>rwd</td>\n",
       "      <td>front</td>\n",
       "      <td>88.6</td>\n",
       "      <td>168.8</td>\n",
       "      <td>...</td>\n",
       "      <td>130</td>\n",
       "      <td>mpfi</td>\n",
       "      <td>3.47</td>\n",
       "      <td>2.68</td>\n",
       "      <td>9</td>\n",
       "      <td>111</td>\n",
       "      <td>5000</td>\n",
       "      <td>21</td>\n",
       "      <td>27</td>\n",
       "      <td>16500</td>\n",
       "    </tr>\n",
       "    <tr>\n",
       "      <th>2</th>\n",
       "      <td>1</td>\n",
       "      <td>alfa-romero</td>\n",
       "      <td>gas</td>\n",
       "      <td>std</td>\n",
       "      <td>2</td>\n",
       "      <td>hatchback</td>\n",
       "      <td>rwd</td>\n",
       "      <td>front</td>\n",
       "      <td>94.5</td>\n",
       "      <td>171.2</td>\n",
       "      <td>...</td>\n",
       "      <td>152</td>\n",
       "      <td>mpfi</td>\n",
       "      <td>2.68</td>\n",
       "      <td>3.47</td>\n",
       "      <td>9</td>\n",
       "      <td>154</td>\n",
       "      <td>5000</td>\n",
       "      <td>19</td>\n",
       "      <td>26</td>\n",
       "      <td>16500</td>\n",
       "    </tr>\n",
       "    <tr>\n",
       "      <th>3</th>\n",
       "      <td>2</td>\n",
       "      <td>audi</td>\n",
       "      <td>gas</td>\n",
       "      <td>std</td>\n",
       "      <td>4</td>\n",
       "      <td>sedan</td>\n",
       "      <td>fwd</td>\n",
       "      <td>front</td>\n",
       "      <td>99.8</td>\n",
       "      <td>176.6</td>\n",
       "      <td>...</td>\n",
       "      <td>109</td>\n",
       "      <td>mpfi</td>\n",
       "      <td>3.19</td>\n",
       "      <td>3.40</td>\n",
       "      <td>10</td>\n",
       "      <td>102</td>\n",
       "      <td>5500</td>\n",
       "      <td>24</td>\n",
       "      <td>30</td>\n",
       "      <td>13950</td>\n",
       "    </tr>\n",
       "    <tr>\n",
       "      <th>4</th>\n",
       "      <td>2</td>\n",
       "      <td>audi</td>\n",
       "      <td>gas</td>\n",
       "      <td>std</td>\n",
       "      <td>4</td>\n",
       "      <td>sedan</td>\n",
       "      <td>4wd</td>\n",
       "      <td>front</td>\n",
       "      <td>99.4</td>\n",
       "      <td>176.6</td>\n",
       "      <td>...</td>\n",
       "      <td>136</td>\n",
       "      <td>mpfi</td>\n",
       "      <td>3.19</td>\n",
       "      <td>3.40</td>\n",
       "      <td>8</td>\n",
       "      <td>115</td>\n",
       "      <td>5500</td>\n",
       "      <td>18</td>\n",
       "      <td>22</td>\n",
       "      <td>17450</td>\n",
       "    </tr>\n",
       "  </tbody>\n",
       "</table>\n",
       "<p>5 rows × 25 columns</p>\n",
       "</div>"
      ],
      "text/plain": [
       "   symboling         make fuel_type aspiration  num_of_doors   body_style  \\\n",
       "0          3  alfa-romero       gas        std             2  convertible   \n",
       "1          3  alfa-romero       gas        std             2  convertible   \n",
       "2          1  alfa-romero       gas        std             2    hatchback   \n",
       "3          2         audi       gas        std             4        sedan   \n",
       "4          2         audi       gas        std             4        sedan   \n",
       "\n",
       "  drive_wheels engine_location  wheel_base  length  ...  engine_size  \\\n",
       "0          rwd           front        88.6   168.8  ...          130   \n",
       "1          rwd           front        88.6   168.8  ...          130   \n",
       "2          rwd           front        94.5   171.2  ...          152   \n",
       "3          fwd           front        99.8   176.6  ...          109   \n",
       "4          4wd           front        99.4   176.6  ...          136   \n",
       "\n",
       "   fuel_system  bore stroke  compression_ratio  horsepower peak_rpm  city_mpg  \\\n",
       "0         mpfi  3.47   2.68                  9         111     5000        21   \n",
       "1         mpfi  3.47   2.68                  9         111     5000        21   \n",
       "2         mpfi  2.68   3.47                  9         154     5000        19   \n",
       "3         mpfi  3.19   3.40                 10         102     5500        24   \n",
       "4         mpfi  3.19   3.40                  8         115     5500        18   \n",
       "\n",
       "   highway_mpg  price  \n",
       "0           27  13495  \n",
       "1           27  16500  \n",
       "2           26  16500  \n",
       "3           30  13950  \n",
       "4           22  17450  \n",
       "\n",
       "[5 rows x 25 columns]"
      ]
     },
     "execution_count": 1,
     "metadata": {},
     "output_type": "execute_result"
    }
   ],
   "source": [
    "\n",
    "import matplotlib.pyplot as plt\n",
    "import numpy as np\n",
    "import pandas as pd\n",
    "import seaborn as sns\n",
    "\n",
    "plt.style.use(\"seaborn-whitegrid\")\n",
    "\n",
    "df = pd.read_csv(\"../input/fe-course-data/autos.csv\")\n",
    "df.head()"
   ]
  },
  {
   "cell_type": "markdown",
   "id": "2a0073a5",
   "metadata": {
    "papermill": {
     "duration": 0.015517,
     "end_time": "2022-05-05T12:49:41.951436",
     "exception": false,
     "start_time": "2022-05-05T12:49:41.935919",
     "status": "completed"
    },
    "tags": []
   },
   "source": [
    "The scikit-learn algorithm for MI treats discrete features differently from continuous features. Consequently, you need to tell it which are which. As a rule of thumb, anything that *must* have a `float` dtype is *not* discrete. Categoricals (`object` or `categorial` dtype) can be treated as discrete by giving them a label encoding. (You can review label encodings in our [Categorical Variables](http://www.kaggle.com/alexisbcook/categorical-variables) lesson.)"
   ]
  },
  {
   "cell_type": "code",
   "execution_count": 2,
   "id": "a19aa67d",
   "metadata": {
    "execution": {
     "iopub.execute_input": "2022-05-05T12:49:41.983509Z",
     "iopub.status.busy": "2022-05-05T12:49:41.983249Z",
     "iopub.status.idle": "2022-05-05T12:49:42.000837Z",
     "shell.execute_reply": "2022-05-05T12:49:41.999718Z"
    },
    "papermill": {
     "duration": 0.036451,
     "end_time": "2022-05-05T12:49:42.003412",
     "exception": false,
     "start_time": "2022-05-05T12:49:41.966961",
     "status": "completed"
    },
    "tags": []
   },
   "outputs": [],
   "source": [
    "X = df.copy()\n",
    "y = X.pop(\"price\")\n",
    "\n",
    "# Label encoding for categoricals\n",
    "for colname in X.select_dtypes(\"object\"):\n",
    "    X[colname], _ = X[colname].factorize()\n",
    "\n",
    "# All discrete features should now have integer dtypes (double-check this before using MI!)\n",
    "discrete_features = X.dtypes == int"
   ]
  },
  {
   "cell_type": "markdown",
   "id": "2b982d2d",
   "metadata": {
    "papermill": {
     "duration": 0.015086,
     "end_time": "2022-05-05T12:49:42.034301",
     "exception": false,
     "start_time": "2022-05-05T12:49:42.019215",
     "status": "completed"
    },
    "tags": []
   },
   "source": [
    "Scikit-learn has two mutual information metrics in its `feature_selection` module: one for real-valued targets (`mutual_info_regression`) and one for categorical targets (`mutual_info_classif`). Our target, `price`, is real-valued. The next cell computes the MI scores for our features and wraps them up in a nice dataframe."
   ]
  },
  {
   "cell_type": "code",
   "execution_count": 3,
   "id": "1bb1d10e",
   "metadata": {
    "execution": {
     "iopub.execute_input": "2022-05-05T12:49:42.067288Z",
     "iopub.status.busy": "2022-05-05T12:49:42.066949Z",
     "iopub.status.idle": "2022-05-05T12:49:42.514213Z",
     "shell.execute_reply": "2022-05-05T12:49:42.513580Z"
    },
    "papermill": {
     "duration": 0.466491,
     "end_time": "2022-05-05T12:49:42.516329",
     "exception": false,
     "start_time": "2022-05-05T12:49:42.049838",
     "status": "completed"
    },
    "tags": []
   },
   "outputs": [
    {
     "data": {
      "text/plain": [
       "curb_weight          1.489744\n",
       "highway_mpg          0.958245\n",
       "length               0.610913\n",
       "bore                 0.501582\n",
       "stroke               0.389212\n",
       "drive_wheels         0.332645\n",
       "compression_ratio    0.132839\n",
       "fuel_type            0.047279\n",
       "Name: MI Scores, dtype: float64"
      ]
     },
     "execution_count": 3,
     "metadata": {},
     "output_type": "execute_result"
    }
   ],
   "source": [
    "from sklearn.feature_selection import mutual_info_regression\n",
    "\n",
    "def make_mi_scores(X, y, discrete_features):\n",
    "    mi_scores = mutual_info_regression(X, y, discrete_features=discrete_features)\n",
    "    mi_scores = pd.Series(mi_scores, name=\"MI Scores\", index=X.columns)\n",
    "    mi_scores = mi_scores.sort_values(ascending=False)\n",
    "    return mi_scores\n",
    "\n",
    "mi_scores = make_mi_scores(X, y, discrete_features)\n",
    "mi_scores[::3]  # show a few features with their MI scores"
   ]
  },
  {
   "cell_type": "markdown",
   "id": "be9755cd",
   "metadata": {
    "papermill": {
     "duration": 0.016506,
     "end_time": "2022-05-05T12:49:42.549495",
     "exception": false,
     "start_time": "2022-05-05T12:49:42.532989",
     "status": "completed"
    },
    "tags": []
   },
   "source": [
    "And now a bar plot to make comparisions easier:"
   ]
  },
  {
   "cell_type": "code",
   "execution_count": 4,
   "id": "40e18064",
   "metadata": {
    "execution": {
     "iopub.execute_input": "2022-05-05T12:49:42.585738Z",
     "iopub.status.busy": "2022-05-05T12:49:42.585054Z",
     "iopub.status.idle": "2022-05-05T12:49:42.903269Z",
     "shell.execute_reply": "2022-05-05T12:49:42.902380Z"
    },
    "papermill": {
     "duration": 0.338726,
     "end_time": "2022-05-05T12:49:42.905335",
     "exception": false,
     "start_time": "2022-05-05T12:49:42.566609",
     "status": "completed"
    },
    "tags": []
   },
   "outputs": [
    {
     "data": {
      "image/png": "[encoded data removed]",
      "text/plain": [
       "<Figure size 800x500 with 1 Axes>"
      ]
     },
     "metadata": {
      "needs_background": "light"
     },
     "output_type": "display_data"
    }
   ],
   "source": [
    "def plot_mi_scores(scores):\n",
    "    scores = scores.sort_values(ascending=True)\n",
    "    width = np.arange(len(scores))\n",
    "    ticks = list(scores.index)\n",
    "    plt.barh(width, scores)\n",
    "    plt.yticks(width, ticks)\n",
    "    plt.title(\"Mutual Information Scores\")\n",
    "\n",
    "\n",
    "plt.figure(dpi=100, figsize=(8, 5))\n",
    "plot_mi_scores(mi_scores)"
   ]
  },
  {
   "cell_type": "markdown",
   "id": "438a5ccb",
   "metadata": {
    "papermill": {
     "duration": 0.018179,
     "end_time": "2022-05-05T12:49:42.942341",
     "exception": false,
     "start_time": "2022-05-05T12:49:42.924162",
     "status": "completed"
    },
    "tags": []
   },
   "source": [
    "Data visualization is a great follow-up to a utility ranking. Let's take a closer look at a couple of these.\n",
    "\n",
    "As we might expect, the high-scoring `curb_weight` feature exhibits a strong relationship with `price`, the target.\n"
   ]
  },
  {
   "cell_type": "code",
   "execution_count": 5,
   "id": "94058dcd",
   "metadata": {
    "execution": {
     "iopub.execute_input": "2022-05-05T12:49:42.980996Z",
     "iopub.status.busy": "2022-05-05T12:49:42.980653Z",
     "iopub.status.idle": "2022-05-05T12:49:43.226173Z",
     "shell.execute_reply": "2022-05-05T12:49:43.225342Z"
    },
    "papermill": {
     "duration": 0.267414,
     "end_time": "2022-05-05T12:49:43.228275",
     "exception": false,
     "start_time": "2022-05-05T12:49:42.960861",
     "status": "completed"
    },
    "tags": []
   },
   "outputs": [
    {
     "data": {
      "image/png": "[encoded data removed]",
      "text/plain": [
       "<Figure size 360x360 with 1 Axes>"
      ]
     },
     "metadata": {
      "needs_background": "light"
     },
     "output_type": "display_data"
    }
   ],
   "source": [
    "sns.relplot(x=\"curb_weight\", y=\"price\", data=df);"
   ]
  },
  {
   "cell_type": "markdown",
   "id": "308d9b1a",
   "metadata": {
    "papermill": {
     "duration": 0.019496,
     "end_time": "2022-05-05T12:49:43.267708",
     "exception": false,
     "start_time": "2022-05-05T12:49:43.248212",
     "status": "completed"
    },
    "tags": []
   },
   "source": [
    "The `fuel_type` feature has a fairly low MI score, but as we can see from the figure, it clearly separates two `price` populations with different trends within the `horsepower` feature. This indicates that `fuel_type` contributes an interaction effect and might not be unimportant after all. Before deciding a feature is unimportant from its MI score, it's good to investigate any possible interaction effects -- domain knowledge can offer a lot of guidance here."
   ]
  },
  {
   "cell_type": "code",
   "execution_count": 6,
   "id": "6f08fd63",
   "metadata": {
    "execution": {
     "iopub.execute_input": "2022-05-05T12:49:43.309293Z",
     "iopub.status.busy": "2022-05-05T12:49:43.308554Z",
     "iopub.status.idle": "2022-05-05T12:49:43.781816Z",
     "shell.execute_reply": "2022-05-05T12:49:43.780242Z"
    },
    "papermill": {
     "duration": 0.496783,
     "end_time": "2022-05-05T12:49:43.784210",
     "exception": false,
     "start_time": "2022-05-05T12:49:43.287427",
     "status": "completed"
    },
    "tags": []
   },
   "outputs": [
    {
     "data": {
      "image/png": "[encoded data removed]",
      "text/plain": [
       "<Figure size 422.25x360 with 1 Axes>"
      ]
     },
     "metadata": {
      "needs_background": "light"
     },
     "output_type": "display_data"
    }
   ],
   "source": [
    "sns.lmplot(x=\"horsepower\", y=\"price\", hue=\"fuel_type\", data=df);"
   ]
  },
  {
   "cell_type": "markdown",
   "id": "4f11bbe8",
   "metadata": {
    "papermill": {
     "duration": 0.021235,
     "end_time": "2022-05-05T12:49:43.827018",
     "exception": false,
     "start_time": "2022-05-05T12:49:43.805783",
     "status": "completed"
    },
    "tags": []
   },
   "source": [
    "Data visualization is a great addition to your feature-engineering toolbox. Along with utility metrics like mutual information, visualizations like these can help you discover important relationships in your data. Check out our [Data Visualization](https://www.kaggle.com/learn/data-visualization) course to learn more!\n",
    "\n",
    "# Your Turn #\n",
    "\n",
    "[**Rank the features**](./2-exercise-mutual-information.ipynb) of the *Ames Housing* dataset and choose your first set of features to start developing."
   ]
  },
  {
   "cell_type": "markdown",
   "id": "62846c07",
   "metadata": {
    "papermill": {
     "duration": 0.021814,
     "end_time": "2022-05-05T12:49:43.870552",
     "exception": false,
     "start_time": "2022-05-05T12:49:43.848738",
     "status": "completed"
    },
    "tags": []
   },
   "source": [
    "---\n",
    "\n",
    "\n",
    "\n",
    "\n",
    "*Have questions or comments? Visit the [course discussion forum](https://www.kaggle.com/learn/feature-engineering/discussion) to chat with other learners.*"
   ]
  }
 ],
 "metadata": {
  "jupytext": {
   "cell_metadata_filter": "-all",
   "formats": "ipynb"
  },
  "kernelspec": {
   "display_name": "Python 3.10.5 ('kaggle')",
   "language": "python",
   "name": "python3"
  },
  "language_info": {
   "codemirror_mode": {
    "name": "ipython",
    "version": 3
   },
   "file_extension": ".py",
   "mimetype": "text/x-python",
   "name": "python",
   "nbconvert_exporter": "python",
   "pygments_lexer": "ipython3",
   "version": "3.10.5"
  },
  "papermill": {
   "default_parameters": {},
   "duration": 12.516678,
   "end_time": "2022-05-05T12:49:44.615628",
   "environment_variables": {},
   "exception": null,
   "input_path": "__notebook__.ipynb",
   "output_path": "__notebook__.ipynb",
   "parameters": {},
   "start_time": "2022-05-05T12:49:32.098950",
   "version": "2.3.4"
  },
  "vscode": {
   "interpreter": {
    "hash": "e4ed1ec8855a62064c619c0d2fa574b8b147199d51dd235074c0ce2edf822ef7"
   }
  }
 },
 "nbformat": 4,
 "nbformat_minor": 5
}
