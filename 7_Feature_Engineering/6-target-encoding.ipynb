{
 "cells": [
  {
   "cell_type": "markdown",
   "id": "2a3ed6a0",
   "metadata": {
    "papermill": {
     "duration": 0.012198,
     "end_time": "2021-10-27T20:04:45.635485",
     "exception": false,
     "start_time": "2021-10-27T20:04:45.623287",
     "status": "completed"
    },
    "tags": []
   },
   "source": [
    "# Introduction #\n",
    "\n",
    "Most of the techniques we've seen in this course have been for numerical features. The technique we'll look at in this lesson, *target encoding*, is instead meant for categorical features. It's a method of encoding categories as numbers, like one-hot or label encoding, with the difference that it also uses the *target* to create the encoding. This makes it what we call a **supervised** feature engineering technique."
   ]
  },
  {
   "cell_type": "code",
   "execution_count": 1,
   "id": "3617a7bf",
   "metadata": {
    "_kg_hide-input": true,
    "execution": {
     "iopub.execute_input": "2021-10-27T20:04:45.672404Z",
     "iopub.status.busy": "2021-10-27T20:04:45.671488Z",
     "iopub.status.idle": "2021-10-27T20:04:45.699201Z",
     "shell.execute_reply": "2021-10-27T20:04:45.698136Z"
    },
    "papermill": {
     "duration": 0.052975,
     "end_time": "2021-10-27T20:04:45.699465",
     "exception": false,
     "start_time": "2021-10-27T20:04:45.646490",
     "status": "completed"
    },
    "tags": []
   },
   "outputs": [],
   "source": [
    "import pandas as pd\n",
    "\n",
    "autos = pd.read_csv(\"../input/fe-course-data/autos.csv\")"
   ]
  },
  {
   "cell_type": "markdown",
   "id": "34a47d61",
   "metadata": {
    "lines_to_next_cell": 0,
    "papermill": {
     "duration": 0.009316,
     "end_time": "2021-10-27T20:04:45.723669",
     "exception": false,
     "start_time": "2021-10-27T20:04:45.714353",
     "status": "completed"
    },
    "tags": []
   },
   "source": [
    "# Target Encoding #\n",
    "\n",
    "A **target encoding** is any kind of encoding that replaces a feature's categories with some number derived from the target.\n",
    "\n",
    "A simple and effective version is to apply a group aggregation from Lesson 3, like the mean. Using the *Automobiles* dataset, this computes the average price of each vehicle's make:"
   ]
  },
  {
   "cell_type": "code",
   "execution_count": 2,
   "id": "b8dacff2",
   "metadata": {
    "execution": {
     "iopub.execute_input": "2021-10-27T20:04:45.749536Z",
     "iopub.status.busy": "2021-10-27T20:04:45.748553Z",
     "iopub.status.idle": "2021-10-27T20:04:45.782141Z",
     "shell.execute_reply": "2021-10-27T20:04:45.782685Z"
    },
    "papermill": {
     "duration": 0.049709,
     "end_time": "2021-10-27T20:04:45.782862",
     "exception": false,
     "start_time": "2021-10-27T20:04:45.733153",
     "status": "completed"
    },
    "tags": []
   },
   "outputs": [
    {
     "data": {
      "text/html": [
       "<div>\n",
       "<style scoped>\n",
       "    .dataframe tbody tr th:only-of-type {\n",
       "        vertical-align: middle;\n",
       "    }\n",
       "\n",
       "    .dataframe tbody tr th {\n",
       "        vertical-align: top;\n",
       "    }\n",
       "\n",
       "    .dataframe thead th {\n",
       "        text-align: right;\n",
       "    }\n",
       "</style>\n",
       "<table border=\"1\" class=\"dataframe\">\n",
       "  <thead>\n",
       "    <tr style=\"text-align: right;\">\n",
       "      <th></th>\n",
       "      <th>make</th>\n",
       "      <th>price</th>\n",
       "      <th>make_encoded</th>\n",
       "    </tr>\n",
       "  </thead>\n",
       "  <tbody>\n",
       "    <tr>\n",
       "      <th>0</th>\n",
       "      <td>alfa-romero</td>\n",
       "      <td>13495</td>\n",
       "      <td>15498.333333</td>\n",
       "    </tr>\n",
       "    <tr>\n",
       "      <th>1</th>\n",
       "      <td>alfa-romero</td>\n",
       "      <td>16500</td>\n",
       "      <td>15498.333333</td>\n",
       "    </tr>\n",
       "    <tr>\n",
       "      <th>2</th>\n",
       "      <td>alfa-romero</td>\n",
       "      <td>16500</td>\n",
       "      <td>15498.333333</td>\n",
       "    </tr>\n",
       "    <tr>\n",
       "      <th>3</th>\n",
       "      <td>audi</td>\n",
       "      <td>13950</td>\n",
       "      <td>17859.166667</td>\n",
       "    </tr>\n",
       "    <tr>\n",
       "      <th>4</th>\n",
       "      <td>audi</td>\n",
       "      <td>17450</td>\n",
       "      <td>17859.166667</td>\n",
       "    </tr>\n",
       "    <tr>\n",
       "      <th>5</th>\n",
       "      <td>audi</td>\n",
       "      <td>15250</td>\n",
       "      <td>17859.166667</td>\n",
       "    </tr>\n",
       "    <tr>\n",
       "      <th>6</th>\n",
       "      <td>audi</td>\n",
       "      <td>17710</td>\n",
       "      <td>17859.166667</td>\n",
       "    </tr>\n",
       "    <tr>\n",
       "      <th>7</th>\n",
       "      <td>audi</td>\n",
       "      <td>18920</td>\n",
       "      <td>17859.166667</td>\n",
       "    </tr>\n",
       "    <tr>\n",
       "      <th>8</th>\n",
       "      <td>audi</td>\n",
       "      <td>23875</td>\n",
       "      <td>17859.166667</td>\n",
       "    </tr>\n",
       "    <tr>\n",
       "      <th>9</th>\n",
       "      <td>bmw</td>\n",
       "      <td>16430</td>\n",
       "      <td>26118.750000</td>\n",
       "    </tr>\n",
       "  </tbody>\n",
       "</table>\n",
       "</div>"
      ],
      "text/plain": [
       "          make  price  make_encoded\n",
       "0  alfa-romero  13495  15498.333333\n",
       "1  alfa-romero  16500  15498.333333\n",
       "2  alfa-romero  16500  15498.333333\n",
       "3         audi  13950  17859.166667\n",
       "4         audi  17450  17859.166667\n",
       "5         audi  15250  17859.166667\n",
       "6         audi  17710  17859.166667\n",
       "7         audi  18920  17859.166667\n",
       "8         audi  23875  17859.166667\n",
       "9          bmw  16430  26118.750000"
      ]
     },
     "execution_count": 2,
     "metadata": {},
     "output_type": "execute_result"
    }
   ],
   "source": [
    "autos[\"make_encoded\"] = autos.groupby(\"make\")[\"price\"].transform(\"mean\")\n",
    "\n",
    "autos[[\"make\", \"price\", \"make_encoded\"]].head(10)"
   ]
  },
  {
   "cell_type": "markdown",
   "id": "4d0511ed",
   "metadata": {
    "papermill": {
     "duration": 0.009266,
     "end_time": "2021-10-27T20:04:45.801947",
     "exception": false,
     "start_time": "2021-10-27T20:04:45.792681",
     "status": "completed"
    },
    "tags": []
   },
   "source": [
    "This kind of target encoding is sometimes called a **mean encoding**. Applied to a binary target, it's also called **bin counting**. (Other names you might come across include: likelihood encoding, impact encoding, and leave-one-out encoding.)\n",
    "\n",
    "# Smoothing #\n",
    "\n",
    "An encoding like this presents a couple of problems, however. First are *unknown categories*. Target encodings create a special risk of overfitting, which means they need to be trained on an independent \"encoding\" split. When you join the encoding to future splits, Pandas will fill in missing values for any categories not present in the encoding split. These missing values you would have to impute somehow.\n",
    "\n",
    "Second are *rare categories*. When a category only occurs a few times in the dataset, any statistics calculated on its group are unlikely to be very accurate. In the *Automobiles* dataset, the `mercurcy` make only occurs once. The \"mean\" price we calculated is just the price of that one vehicle, which might not be very representative of any Mercuries we might see in the future. Target encoding rare categories can make overfitting more likely.\n",
    "\n",
    "A solution to these problems is to add **smoothing**. The idea is to blend the *in-category* average with the *overall* average. Rare categories get less weight on their category average, while missing categories just get the overall average.\n",
    "\n",
    "In pseudocode:\n",
    "```\n",
    "encoding = weight * in_category + (1 - weight) * overall\n",
    "```\n",
    "where `weight` is a value between 0 and 1 calculated from the category frequency.\n",
    "\n",
    "An easy way to determine the value for `weight` is to compute an **m-estimate**:\n",
    "```\n",
    "weight = n / (n + m)\n",
    "```\n",
    "where `n` is the total number of times that category occurs in the data. The parameter `m` determines the \"smoothing factor\". Larger values of `m` put more weight on the overall estimate.\n",
    "\n",
    "<figure style=\"padding: 1em;\">\n",
    "<img src=\"https://i.imgur.com/1uVtQEz.png\" width=500, alt=\"\">\n",
    "<figcaption style=\"textalign: center; font-style: italic\"><center>\n",
    "</center></figcaption>\n",
    "</figure>\n",
    "\n",
    "In the *Automobiles* dataset there are three cars with the make `chevrolet`. If you chose `m=2.0`, then the `chevrolet` category would be encoded with 60% of the average Chevrolet price plus 40% of the overall average price.\n",
    "```\n",
    "chevrolet = 0.6 * 6000.00 + 0.4 * 13285.03\n",
    "```\n",
    "\n",
    "When choosing a value for `m`, consider how noisy you expect the categories to be. Does the price of a vehicle vary a great deal within each make? Would you need a lot of data to get good estimates? If so, it could be better to choose a larger value for `m`; if the average price for each make were relatively stable, a smaller value could be okay.\n",
    "\n",
    "<blockquote style=\"margin-right:auto; margin-left:auto; background-color: #ebf9ff; padding: 1em; margin:24px;\">\n",
    "<strong>Use Cases for Target Encoding</strong><br>\n",
    "Target encoding is great for:\n",
    "<ul>\n",
    "<li><strong>High-cardinality features</strong>: A feature with a large number of categories can be troublesome to encode: a one-hot encoding would generate too many features and alternatives, like a label encoding, might not be appropriate for that feature. A target encoding derives numbers for the categories using the feature's most important property: its relationship with the target.\n",
    "<li><strong>Domain-motivated features</strong>: From prior experience, you might suspect that a categorical feature should be important even if it scored poorly with a feature metric. A target encoding can help reveal a feature's true informativeness.\n",
    "</ul>\n",
    "</blockquote>\n",
    "\n",
    "# Example - MovieLens1M #\n",
    "\n",
    "The [*MovieLens1M*](https://www.kaggle.com/grouplens/movielens-20m-dataset) dataset contains one-million movie ratings by users of the MovieLens website, with features describing each user and movie. This hidden cell sets everything up:"
   ]
  },
  {
   "cell_type": "code",
   "execution_count": 3,
   "id": "3caa8dbd",
   "metadata": {
    "_kg_hide-input": true,
    "execution": {
     "iopub.execute_input": "2021-10-27T20:04:45.825699Z",
     "iopub.status.busy": "2021-10-27T20:04:45.824651Z",
     "iopub.status.idle": "2021-10-27T20:04:50.442983Z",
     "shell.execute_reply": "2021-10-27T20:04:50.442179Z"
    },
    "papermill": {
     "duration": 4.631629,
     "end_time": "2021-10-27T20:04:50.443156",
     "exception": false,
     "start_time": "2021-10-27T20:04:45.811527",
     "status": "completed"
    },
    "tags": []
   },
   "outputs": [
    {
     "name": "stdout",
     "output_type": "stream",
     "text": [
      "Number of Unique Zipcodes: 3439\n"
     ]
    }
   ],
   "source": [
    "import matplotlib.pyplot as plt\n",
    "import numpy as np\n",
    "import pandas as pd\n",
    "import seaborn as sns\n",
    "import warnings\n",
    "\n",
    "plt.style.use(\"seaborn-whitegrid\")\n",
    "plt.rc(\"figure\", autolayout=True)\n",
    "plt.rc(\n",
    "    \"axes\",\n",
    "    labelweight=\"bold\",\n",
    "    labelsize=\"large\",\n",
    "    titleweight=\"bold\",\n",
    "    titlesize=14,\n",
    "    titlepad=10,\n",
    ")\n",
    "warnings.filterwarnings('ignore')\n",
    "\n",
    "\n",
    "df = pd.read_csv(\"../input/fe-course-data/movielens1m.csv\")\n",
    "df = df.astype(np.uint8, errors='ignore') # reduce memory footprint\n",
    "print(\"Number of Unique Zipcodes: {}\".format(df[\"Zipcode\"].nunique()))"
   ]
  },
  {
   "cell_type": "markdown",
   "id": "e70c80c8",
   "metadata": {
    "papermill": {
     "duration": 0.010398,
     "end_time": "2021-10-27T20:04:50.464319",
     "exception": false,
     "start_time": "2021-10-27T20:04:50.453921",
     "status": "completed"
    },
    "tags": []
   },
   "source": [
    "With over 3000 categories, the `Zipcode` feature makes a good candidate for target encoding, and the size of this dataset (over one-million rows) means we can spare some data to create the encoding.\n",
    "\n",
    "We'll start by creating a 25% split to train the target encoder."
   ]
  },
  {
   "cell_type": "code",
   "execution_count": 4,
   "id": "1df63b6f",
   "metadata": {
    "execution": {
     "iopub.execute_input": "2021-10-27T20:04:50.492332Z",
     "iopub.status.busy": "2021-10-27T20:04:50.491625Z",
     "iopub.status.idle": "2021-10-27T20:04:51.136738Z",
     "shell.execute_reply": "2021-10-27T20:04:51.136091Z"
    },
    "papermill": {
     "duration": 0.66183,
     "end_time": "2021-10-27T20:04:51.136902",
     "exception": false,
     "start_time": "2021-10-27T20:04:50.475072",
     "status": "completed"
    },
    "tags": []
   },
   "outputs": [],
   "source": [
    "X = df.copy()\n",
    "y = X.pop('Rating')\n",
    "\n",
    "X_encode = X.sample(frac=0.25)\n",
    "y_encode = y[X_encode.index]\n",
    "X_pretrain = X.drop(X_encode.index)\n",
    "y_train = y[X_pretrain.index]"
   ]
  },
  {
   "cell_type": "markdown",
   "id": "943cc0eb",
   "metadata": {
    "papermill": {
     "duration": 0.010163,
     "end_time": "2021-10-27T20:04:51.157787",
     "exception": false,
     "start_time": "2021-10-27T20:04:51.147624",
     "status": "completed"
    },
    "tags": []
   },
   "source": [
    "The `category_encoders` package in `scikit-learn-contrib` implements an m-estimate encoder, which we'll use to encode our `Zipcode` feature."
   ]
  },
  {
   "cell_type": "code",
   "execution_count": 5,
   "id": "d7498576",
   "metadata": {
    "execution": {
     "iopub.execute_input": "2021-10-27T20:04:51.186842Z",
     "iopub.status.busy": "2021-10-27T20:04:51.186077Z",
     "iopub.status.idle": "2021-10-27T20:04:52.371358Z",
     "shell.execute_reply": "2021-10-27T20:04:52.370792Z"
    },
    "papermill": {
     "duration": 1.202869,
     "end_time": "2021-10-27T20:04:52.371539",
     "exception": false,
     "start_time": "2021-10-27T20:04:51.168670",
     "status": "completed"
    },
    "tags": []
   },
   "outputs": [],
   "source": [
    "from category_encoders import MEstimateEncoder\n",
    "\n",
    "# Create the encoder instance. Choose m to control noise.\n",
    "encoder = MEstimateEncoder(cols=[\"Zipcode\"], m=5.0)\n",
    "\n",
    "# Fit the encoder on the encoding split.\n",
    "encoder.fit(X_encode, y_encode)\n",
    "\n",
    "# Encode the Zipcode column to create the final training data\n",
    "X_train = encoder.transform(X_pretrain)"
   ]
  },
  {
   "cell_type": "markdown",
   "id": "e86f48a4",
   "metadata": {
    "papermill": {
     "duration": 0.010797,
     "end_time": "2021-10-27T20:04:52.392906",
     "exception": false,
     "start_time": "2021-10-27T20:04:52.382109",
     "status": "completed"
    },
    "tags": []
   },
   "source": [
    "Let's compare the encoded values to the target to see how informative our encoding might be."
   ]
  },
  {
   "cell_type": "code",
   "execution_count": 6,
   "id": "98d059e2",
   "metadata": {
    "execution": {
     "iopub.execute_input": "2021-10-27T20:04:52.440236Z",
     "iopub.status.busy": "2021-10-27T20:04:52.428158Z",
     "iopub.status.idle": "2021-10-27T20:04:56.844248Z",
     "shell.execute_reply": "2021-10-27T20:04:56.843516Z"
    },
    "papermill": {
     "duration": 4.440074,
     "end_time": "2021-10-27T20:04:56.844431",
     "exception": false,
     "start_time": "2021-10-27T20:04:52.404357",
     "status": "completed"
    },
    "tags": []
   },
   "outputs": [
    {
     "data": {
      "image/png": "[encoded data removed]",
      "text/plain": [
       "<Figure size 540x360 with 1 Axes>"
      ]
     },
     "metadata": {
      "needs_background": "light"
     },
     "output_type": "display_data"
    }
   ],
   "source": [
    "plt.figure(dpi=90)\n",
    "ax = sns.distplot(y, kde=False, norm_hist=True)\n",
    "ax = sns.kdeplot(X_train.Zipcode, color='r', ax=ax)\n",
    "ax.set_xlabel(\"Rating\")\n",
    "ax.legend(labels=['Zipcode', 'Rating']);"
   ]
  },
  {
   "cell_type": "markdown",
   "id": "69fa2d26",
   "metadata": {
    "papermill": {
     "duration": 0.011104,
     "end_time": "2021-10-27T20:04:56.867210",
     "exception": false,
     "start_time": "2021-10-27T20:04:56.856106",
     "status": "completed"
    },
    "tags": []
   },
   "source": [
    "The distribution of the encoded `Zipcode` feature roughly follows the distribution of the actual ratings, meaning that movie-watchers differed enough in their ratings from zipcode to zipcode that our target encoding was able to capture useful information.\n",
    "\n",
    "# Your Turn #\n",
    "\n",
    "[**Apply target encoding**](./6-exercise-target-encoding.ipynb) to features in *Ames* and investigate a surprising way that target encoding can lead to overfitting."
   ]
  }
 ],
 "metadata": {
  "jupytext": {
   "cell_metadata_filter": "-all",
   "formats": "ipynb"
  },
  "kernelspec": {
   "display_name": "Python 3.10.5 ('kaggle')",
   "language": "python",
   "name": "python3"
  },
  "language_info": {
   "codemirror_mode": {
    "name": "ipython",
    "version": 3
   },
   "file_extension": ".py",
   "mimetype": "text/x-python",
   "name": "python",
   "nbconvert_exporter": "python",
   "pygments_lexer": "ipython3",
   "version": "3.10.5"
  },
  "papermill": {
   "default_parameters": {},
   "duration": 22.598443,
   "end_time": "2021-10-27T20:04:57.792326",
   "environment_variables": {},
   "exception": null,
   "input_path": "__notebook__.ipynb",
   "output_path": "__notebook__.ipynb",
   "parameters": {},
   "start_time": "2021-10-27T20:04:35.193883",
   "version": "2.3.3"
  },
  "vscode": {
   "interpreter": {
    "hash": "e4ed1ec8855a62064c619c0d2fa574b8b147199d51dd235074c0ce2edf822ef7"
   }
  }
 },
 "nbformat": 4,
 "nbformat_minor": 5
}
