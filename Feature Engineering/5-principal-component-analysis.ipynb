{
 "cells": [
  {
   "cell_type": "markdown",
   "id": "f1659eb0",
   "metadata": {
    "papermill": {
     "duration": 0.005758,
     "end_time": "2022-07-13T14:28:30.129111",
     "exception": false,
     "start_time": "2022-07-13T14:28:30.123353",
     "status": "completed"
    },
    "tags": []
   },
   "source": [
    "# Introduction #\n",
    "\n",
    "In the previous lesson we looked at our first model-based method for feature engineering: clustering. In this lesson we look at our next: principal component analysis (PCA). Just like clustering is a partitioning of the dataset based on proximity, you could think of PCA as a partitioning of the variation in the data. PCA is a great tool to help you discover important relationships in the data and can also be used to create more informative features.\n",
    "\n",
    "(Technical note: PCA is typically applied to [standardized](https://www.kaggle.com/alexisbcook/scaling-and-normalization) data. With standardized data \"variation\" means \"correlation\". With unstandardized data \"variation\" means \"covariance\". All data in this course will be standardized before applying PCA.)\n",
    "\n",
    "# Principal Component Analysis #\n",
    "\n",
    "In the [*Abalone*](https://www.kaggle.com/rodolfomendes/abalone-dataset) dataset are physical measurements taken from several thousand Tasmanian abalone. (An abalone is a sea creature much like a clam or an oyster.) We'll just look at a couple features for now: the `'Height'` and `'Diameter'` of their shells.\n",
    "\n",
    "You could imagine that within this data are \"axes of variation\" that describe the ways the abalone tend to differ from one another. Pictorially, these axes appear as perpendicular lines running along the natural dimensions of the data, one axis for each original feature.\n",
    "\n",
    "<figure style=\"padding: 1em;\">\n",
    "<img src=\"https://i.imgur.com/rr8NCDy.png\" width=300, alt=\"\">\n",
    "<figcaption style=\"textalign: center; font-style: italic\"><center>\n",
    "</center></figcaption>\n",
    "</figure>"
   ]
  },
  {
   "cell_type": "markdown",
   "id": "4047d25e",
   "metadata": {
    "papermill": {
     "duration": 0.004361,
     "end_time": "2022-07-13T14:28:30.138168",
     "exception": false,
     "start_time": "2022-07-13T14:28:30.133807",
     "status": "completed"
    },
    "tags": []
   },
   "source": [
    "Often, we can give names to these axes of variation. The longer axis we might call the \"Size\" component: small height and small diameter (lower left) contrasted with large height and large diameter (upper right). The shorter axis we might call the \"Shape\" component: small height and large diameter (flat shape) contrasted with large height and small diameter (round shape).\n",
    "\n",
    "Notice that instead of describing abalones by their `'Height'` and `'Diameter'`, we could just as well describe them by their `'Size'` and `'Shape'`. This, in fact, is the whole idea of PCA: instead of describing the data with the original features, we describe it with its axes of variation. The axes of variation become the new features.\n",
    "\n",
    "<figure style=\"padding: 1em;\">\n",
    "<img src=\"https://i.imgur.com/XQlRD1q.png\" width=600, alt=\"\">\n",
    "<figcaption style=\"textalign: center; font-style: italic\"><center>The principal components become the new features by a rotation of the dataset in the feature space.\n",
    "</center></figcaption>\n",
    "</figure>\n",
    "\n",
    "The new features PCA constructs are actually just linear combinations (weighted sums) of the original features:\n",
    "\n",
    "```\n",
    "df[\"Size\"] = 0.707 * X[\"Height\"] + 0.707 * X[\"Diameter\"]\n",
    "df[\"Shape\"] = 0.707 * X[\"Height\"] - 0.707 * X[\"Diameter\"]\n",
    "```\n",
    "\n",
    "These new features are called the **principal components** of the data. The weights themselves are called **loadings**. There will be as many principal components as there are features in the original dataset: if we had used ten features instead of two, we would have ended up with ten components.\n",
    "\n",
    "A component's loadings tell us what variation it expresses through signs and magnitudes:\n",
    "\n",
    "| Features \\ Components | Size (PC1) | Shape (PC2) |\n",
    "|-----------------------|------------|-------------|\n",
    "| Height                | 0.707      | 0.707       |\n",
    "| Diameter              | 0.707      | -0.707      |"
   ]
  },
  {
   "cell_type": "markdown",
   "id": "9abc6c91",
   "metadata": {
    "papermill": {
     "duration": 0.004383,
     "end_time": "2022-07-13T14:28:30.147034",
     "exception": false,
     "start_time": "2022-07-13T14:28:30.142651",
     "status": "completed"
    },
    "tags": []
   },
   "source": [
    "This table of loadings is telling us that in the `Size` component, `Height` and `Diameter` vary in the same direction (same sign), but in the `Shape` component they vary in opposite directions (opposite sign). In each component, the loadings are all of the same magnitude and so the features contribute equally in both.\n",
    "\n",
    "PCA also tells us the *amount* of variation in each component. We can see from the figures that there is more variation in the data along the `Size` component than along the `Shape` component. PCA makes this precise through each component's **percent of explained variance**.\n",
    "\n",
    "<figure style=\"padding: 1em;\">\n",
    "<img src=\"https://i.imgur.com/xWTvqDA.png\" width=600, alt=\"\">\n",
    "<figcaption style=\"textalign: center; font-style: italic\"><center> Size accounts for about 96% and the Shape for about 4% of the variance between Height and Diameter.\n",
    "</center></figcaption>\n",
    "</figure>\n",
    "\n",
    "The `Size` component captures the majority of the variation between `Height` and `Diameter`. It's important to remember, however, that the amount of variance in a component doesn't necessarily correspond to how good it is as a predictor: it depends on what you're trying to predict.\n",
    "\n",
    "# PCA for Feature Engineering #\n",
    "\n",
    "There are two ways you could use PCA for feature engineering.\n",
    "\n",
    "The first way is to use it as a descriptive technique. Since the components tell you about the variation, you could compute the MI scores for the components and see what kind of variation is most predictive of your target. That could give you ideas for kinds of features to create -- a product of `'Height'` and `'Diameter'` if `'Size'` is important, say, or a ratio of `'Height'` and `'Diameter'` if `Shape` is important. You could even try clustering on one or more of the high-scoring components.\n",
    "\n",
    "The second way is to use the components themselves as features. Because the components expose the variational structure of the data directly, they can often be more informative than the original features. Here are some use-cases:\n",
    "- **Dimensionality reduction**: When your features are highly redundant (*multicollinear*, specifically), PCA will partition out the redundancy into one or more near-zero variance components, which you can then drop since they will contain little or no information.\n",
    "- **Anomaly detection**: Unusual variation, not apparent from the original features, will often show up in the low-variance components. These components could be highly informative in an anomaly or outlier detection task.\n",
    "- **Noise reduction**: A collection of sensor readings will often share some common background noise. PCA can sometimes collect the (informative) signal into a smaller number of features while leaving the noise alone, thus boosting the signal-to-noise ratio.\n",
    "- **Decorrelation**: Some ML algorithms struggle with highly-correlated features. PCA transforms correlated features into uncorrelated components, which could be easier for your algorithm to work with.\n",
    "\n",
    "PCA basically gives you direct access to the correlational structure of your data. You'll no doubt come up with applications of your own!\n",
    "\n",
    "<blockquote style=\"margin-right:auto; margin-left:auto; background-color: #ebf9ff; padding: 1em; margin:24px;\">\n",
    "<strong>PCA Best Practices</strong><br>\n",
    "There are a few things to keep in mind when applying PCA:\n",
    "<ul>\n",
    "<li> PCA only works with numeric features, like continuous quantities or counts.\n",
    "<li> PCA is sensitive to scale. It's good practice to standardize your data before applying PCA, unless you know you have good reason not to.\n",
    "<li> Consider removing or constraining outliers, since they can have an undue influence on the results.\n",
    "</ul>\n",
    "</blockquote>\n",
    "\n",
    "# Example - 1985 Automobiles #\n",
    "\n",
    "In this example, we'll return to our [*Automobile*](https://www.kaggle.com/toramky/automobile-dataset) dataset and apply PCA, using it as a descriptive technique to discover features. We'll look at other use-cases in the exercise.\n",
    "\n",
    "This hidden cell loads the data and defines the functions `plot_variance` and `make_mi_scores`."
   ]
  },
  {
   "cell_type": "code",
   "execution_count": 1,
   "id": "bc34884d",
   "metadata": {
    "_kg_hide-input": true,
    "execution": {
     "iopub.execute_input": "2022-07-13T14:28:30.158952Z",
     "iopub.status.busy": "2022-07-13T14:28:30.157988Z",
     "iopub.status.idle": "2022-07-13T14:28:31.606797Z",
     "shell.execute_reply": "2022-07-13T14:28:31.605920Z"
    },
    "papermill": {
     "duration": 1.457856,
     "end_time": "2022-07-13T14:28:31.609440",
     "exception": false,
     "start_time": "2022-07-13T14:28:30.151584",
     "status": "completed"
    },
    "tags": []
   },
   "outputs": [],
   "source": [
    "import matplotlib.pyplot as plt\n",
    "import numpy as np\n",
    "import pandas as pd\n",
    "import seaborn as sns\n",
    "from IPython.display import display\n",
    "from sklearn.feature_selection import mutual_info_regression\n",
    "\n",
    "\n",
    "plt.style.use(\"seaborn-whitegrid\")\n",
    "plt.rc(\"figure\", autolayout=True)\n",
    "plt.rc(\n",
    "    \"axes\",\n",
    "    labelweight=\"bold\",\n",
    "    labelsize=\"large\",\n",
    "    titleweight=\"bold\",\n",
    "    titlesize=14,\n",
    "    titlepad=10,\n",
    ")\n",
    "\n",
    "\n",
    "def plot_variance(pca, width=8, dpi=100):\n",
    "    # Create figure\n",
    "    fig, axs = plt.subplots(1, 2)\n",
    "    n = pca.n_components_\n",
    "    grid = np.arange(1, n + 1)\n",
    "    # Explained variance\n",
    "    evr = pca.explained_variance_ratio_\n",
    "    axs[0].bar(grid, evr)\n",
    "    axs[0].set(\n",
    "        xlabel=\"Component\", title=\"% Explained Variance\", ylim=(0.0, 1.0)\n",
    "    )\n",
    "    # Cumulative Variance\n",
    "    cv = np.cumsum(evr)\n",
    "    axs[1].plot(np.r_[0, grid], np.r_[0, cv], \"o-\")\n",
    "    axs[1].set(\n",
    "        xlabel=\"Component\", title=\"% Cumulative Variance\", ylim=(0.0, 1.0)\n",
    "    )\n",
    "    # Set up figure\n",
    "    fig.set(figwidth=8, dpi=100)\n",
    "    return axs\n",
    "\n",
    "def make_mi_scores(X, y, discrete_features):\n",
    "    mi_scores = mutual_info_regression(X, y, discrete_features=discrete_features)\n",
    "    mi_scores = pd.Series(mi_scores, name=\"MI Scores\", index=X.columns)\n",
    "    mi_scores = mi_scores.sort_values(ascending=False)\n",
    "    return mi_scores\n",
    "\n",
    "\n",
    "df = pd.read_csv(\"../input/fe-course-data/autos.csv\")"
   ]
  },
  {
   "cell_type": "markdown",
   "id": "d0cb10aa",
   "metadata": {
    "papermill": {
     "duration": 0.004577,
     "end_time": "2022-07-13T14:28:31.618782",
     "exception": false,
     "start_time": "2022-07-13T14:28:31.614205",
     "status": "completed"
    },
    "tags": []
   },
   "source": [
    "We've selected four features that cover a range of properties. Each of these features also has a high MI score with the target, `price`. We'll standardize the data since these features aren't naturally on the same scale."
   ]
  },
  {
   "cell_type": "code",
   "execution_count": 2,
   "id": "b50fdd32",
   "metadata": {
    "execution": {
     "iopub.execute_input": "2022-07-13T14:28:31.629867Z",
     "iopub.status.busy": "2022-07-13T14:28:31.629187Z",
     "iopub.status.idle": "2022-07-13T14:28:31.648067Z",
     "shell.execute_reply": "2022-07-13T14:28:31.647336Z"
    },
    "papermill": {
     "duration": 0.026752,
     "end_time": "2022-07-13T14:28:31.650254",
     "exception": false,
     "start_time": "2022-07-13T14:28:31.623502",
     "status": "completed"
    },
    "tags": []
   },
   "outputs": [],
   "source": [
    "features = [\"highway_mpg\", \"engine_size\", \"horsepower\", \"curb_weight\"]\n",
    "\n",
    "X = df.copy()\n",
    "y = X.pop('price')\n",
    "X = X.loc[:, features]\n",
    "\n",
    "# Standardize\n",
    "X_scaled = (X - X.mean(axis=0)) / X.std(axis=0)"
   ]
  },
  {
   "cell_type": "markdown",
   "id": "2e1f9d2a",
   "metadata": {
    "papermill": {
     "duration": 0.004822,
     "end_time": "2022-07-13T14:28:31.659937",
     "exception": false,
     "start_time": "2022-07-13T14:28:31.655115",
     "status": "completed"
    },
    "tags": []
   },
   "source": [
    "Now we can fit scikit-learn's `PCA` estimator and create the principal components. You can see here the first few rows of the transformed dataset."
   ]
  },
  {
   "cell_type": "code",
   "execution_count": 3,
   "id": "b4bd9724",
   "metadata": {
    "execution": {
     "iopub.execute_input": "2022-07-13T14:28:31.671630Z",
     "iopub.status.busy": "2022-07-13T14:28:31.670908Z",
     "iopub.status.idle": "2022-07-13T14:28:31.710685Z",
     "shell.execute_reply": "2022-07-13T14:28:31.709694Z"
    },
    "papermill": {
     "duration": 0.048539,
     "end_time": "2022-07-13T14:28:31.713294",
     "exception": false,
     "start_time": "2022-07-13T14:28:31.664755",
     "status": "completed"
    },
    "tags": []
   },
   "outputs": [
    {
     "data": {
      "text/html": [
       "<div>\n",
       "<style scoped>\n",
       "    .dataframe tbody tr th:only-of-type {\n",
       "        vertical-align: middle;\n",
       "    }\n",
       "\n",
       "    .dataframe tbody tr th {\n",
       "        vertical-align: top;\n",
       "    }\n",
       "\n",
       "    .dataframe thead th {\n",
       "        text-align: right;\n",
       "    }\n",
       "</style>\n",
       "<table border=\"1\" class=\"dataframe\">\n",
       "  <thead>\n",
       "    <tr style=\"text-align: right;\">\n",
       "      <th></th>\n",
       "      <th>PC1</th>\n",
       "      <th>PC2</th>\n",
       "      <th>PC3</th>\n",
       "      <th>PC4</th>\n",
       "    </tr>\n",
       "  </thead>\n",
       "  <tbody>\n",
       "    <tr>\n",
       "      <th>0</th>\n",
       "      <td>0.382486</td>\n",
       "      <td>-0.400222</td>\n",
       "      <td>0.124122</td>\n",
       "      <td>0.169539</td>\n",
       "    </tr>\n",
       "    <tr>\n",
       "      <th>1</th>\n",
       "      <td>0.382486</td>\n",
       "      <td>-0.400222</td>\n",
       "      <td>0.124122</td>\n",
       "      <td>0.169539</td>\n",
       "    </tr>\n",
       "    <tr>\n",
       "      <th>2</th>\n",
       "      <td>1.550890</td>\n",
       "      <td>-0.107175</td>\n",
       "      <td>0.598361</td>\n",
       "      <td>-0.256081</td>\n",
       "    </tr>\n",
       "    <tr>\n",
       "      <th>3</th>\n",
       "      <td>-0.408859</td>\n",
       "      <td>-0.425947</td>\n",
       "      <td>0.243335</td>\n",
       "      <td>0.013920</td>\n",
       "    </tr>\n",
       "    <tr>\n",
       "      <th>4</th>\n",
       "      <td>1.132749</td>\n",
       "      <td>-0.814565</td>\n",
       "      <td>-0.202885</td>\n",
       "      <td>0.224138</td>\n",
       "    </tr>\n",
       "  </tbody>\n",
       "</table>\n",
       "</div>"
      ],
      "text/plain": [
       "        PC1       PC2       PC3       PC4\n",
       "0  0.382486 -0.400222  0.124122  0.169539\n",
       "1  0.382486 -0.400222  0.124122  0.169539\n",
       "2  1.550890 -0.107175  0.598361 -0.256081\n",
       "3 -0.408859 -0.425947  0.243335  0.013920\n",
       "4  1.132749 -0.814565 -0.202885  0.224138"
      ]
     },
     "execution_count": 3,
     "metadata": {},
     "output_type": "execute_result"
    }
   ],
   "source": [
    "from sklearn.decomposition import PCA\n",
    "\n",
    "# Create principal components\n",
    "pca = PCA()\n",
    "X_pca = pca.fit_transform(X_scaled)\n",
    "\n",
    "# Convert to dataframe\n",
    "component_names = [f\"PC{i+1}\" for i in range(X_pca.shape[1])]\n",
    "X_pca = pd.DataFrame(X_pca, columns=component_names)\n",
    "\n",
    "X_pca.head()"
   ]
  },
  {
   "cell_type": "markdown",
   "id": "136368f3",
   "metadata": {
    "papermill": {
     "duration": 0.004596,
     "end_time": "2022-07-13T14:28:31.722947",
     "exception": false,
     "start_time": "2022-07-13T14:28:31.718351",
     "status": "completed"
    },
    "tags": []
   },
   "source": [
    "After fitting, the `PCA` instance contains the loadings in its `components_` attribute. (Terminology for PCA is inconsistent, unfortunately. We're following the convention that calls the transformed columns in `X_pca` the *components*, which otherwise don't have a name.) We'll wrap the loadings up in a dataframe."
   ]
  },
  {
   "cell_type": "code",
   "execution_count": 4,
   "id": "ca3310f5",
   "metadata": {
    "execution": {
     "iopub.execute_input": "2022-07-13T14:28:31.734747Z",
     "iopub.status.busy": "2022-07-13T14:28:31.734343Z",
     "iopub.status.idle": "2022-07-13T14:28:31.747528Z",
     "shell.execute_reply": "2022-07-13T14:28:31.746454Z"
    },
    "papermill": {
     "duration": 0.021664,
     "end_time": "2022-07-13T14:28:31.749629",
     "exception": false,
     "start_time": "2022-07-13T14:28:31.727965",
     "status": "completed"
    },
    "tags": []
   },
   "outputs": [
    {
     "name": "stdout",
     "output_type": "stream",
     "text": [
      "                  PC1       PC2       PC3       PC4\n",
      "highway_mpg -0.492347  0.770892  0.070142 -0.397996\n",
      "engine_size  0.503859  0.626709  0.019960  0.594107\n",
      "horsepower   0.500448  0.013788  0.731093 -0.463534\n",
      "curb_weight  0.503262  0.113008 -0.678369 -0.523232\n"
     ]
    }
   ],
   "source": [
    "loadings = pd.DataFrame(\n",
    "    pca.components_.T,  # transpose the matrix of loadings\n",
    "    columns=component_names,  # so the columns are the principal components\n",
    "    index=X.columns,  # and the rows are the original features\n",
    ")\n",
    "print(loadings)"
   ]
  },
  {
   "cell_type": "markdown",
   "id": "b8c0b702",
   "metadata": {
    "papermill": {
     "duration": 0.004961,
     "end_time": "2022-07-13T14:28:31.759938",
     "exception": false,
     "start_time": "2022-07-13T14:28:31.754977",
     "status": "completed"
    },
    "tags": []
   },
   "source": [
    "Recall that the signs and magnitudes of a component's loadings tell us what kind of variation it's captured. The first component (`PC1`) shows a contrast between large, powerful vehicles with poor gas milage, and smaller, more economical vehicles with good gas milage. We might call this the \"Luxury/Economy\" axis. The next figure shows that our four chosen features mostly vary along the Luxury/Economy axis."
   ]
  },
  {
   "cell_type": "code",
   "execution_count": 5,
   "id": "d856f484",
   "metadata": {
    "execution": {
     "iopub.execute_input": "2022-07-13T14:28:31.772288Z",
     "iopub.status.busy": "2022-07-13T14:28:31.771265Z",
     "iopub.status.idle": "2022-07-13T14:28:32.145478Z",
     "shell.execute_reply": "2022-07-13T14:28:32.144418Z"
    },
    "papermill": {
     "duration": 0.382659,
     "end_time": "2022-07-13T14:28:32.147707",
     "exception": false,
     "start_time": "2022-07-13T14:28:31.765048",
     "status": "completed"
    },
    "tags": []
   },
   "outputs": [
    {
     "data": {
      "image/png": "[encoded data removed]",
      "text/plain": [
       "<Figure size 800x400 with 2 Axes>"
      ]
     },
     "metadata": {
      "needs_background": "light"
     },
     "output_type": "display_data"
    }
   ],
   "source": [
    "# Look at explained variance\n",
    "plot_variance(pca);"
   ]
  },
  {
   "cell_type": "markdown",
   "id": "e27bd461",
   "metadata": {
    "papermill": {
     "duration": 0.005533,
     "end_time": "2022-07-13T14:28:32.159702",
     "exception": false,
     "start_time": "2022-07-13T14:28:32.154169",
     "status": "completed"
    },
    "tags": []
   },
   "source": [
    "Let's also look at the MI scores of the components. Not surprisingly, `PC1` is highly informative, though the remaining components, despite their small variance, still have a significant relationship with `price`. Examining those components could be worthwhile to find relationships not captured by the main Luxury/Economy axis."
   ]
  },
  {
   "cell_type": "code",
   "execution_count": 6,
   "id": "998f68a2",
   "metadata": {
    "execution": {
     "iopub.execute_input": "2022-07-13T14:28:32.172806Z",
     "iopub.status.busy": "2022-07-13T14:28:32.172236Z",
     "iopub.status.idle": "2022-07-13T14:28:32.189316Z",
     "shell.execute_reply": "2022-07-13T14:28:32.188619Z"
    },
    "papermill": {
     "duration": 0.025975,
     "end_time": "2022-07-13T14:28:32.191351",
     "exception": false,
     "start_time": "2022-07-13T14:28:32.165376",
     "status": "completed"
    },
    "tags": []
   },
   "outputs": [
    {
     "data": {
      "text/plain": [
       "PC1    1.014024\n",
       "PC2    0.379416\n",
       "PC3    0.307064\n",
       "PC4    0.203583\n",
       "Name: MI Scores, dtype: float64"
      ]
     },
     "execution_count": 6,
     "metadata": {},
     "output_type": "execute_result"
    }
   ],
   "source": [
    "mi_scores = make_mi_scores(X_pca, y, discrete_features=False)\n",
    "mi_scores"
   ]
  },
  {
   "cell_type": "markdown",
   "id": "effae534",
   "metadata": {
    "papermill": {
     "duration": 0.005656,
     "end_time": "2022-07-13T14:28:32.202919",
     "exception": false,
     "start_time": "2022-07-13T14:28:32.197263",
     "status": "completed"
    },
    "tags": []
   },
   "source": [
    "The third component shows a contrast between `horsepower` and `curb_weight` -- sports cars vs. wagons, it seems."
   ]
  },
  {
   "cell_type": "code",
   "execution_count": 7,
   "id": "4802e887",
   "metadata": {
    "execution": {
     "iopub.execute_input": "2022-07-13T14:28:32.216689Z",
     "iopub.status.busy": "2022-07-13T14:28:32.216188Z",
     "iopub.status.idle": "2022-07-13T14:28:32.229988Z",
     "shell.execute_reply": "2022-07-13T14:28:32.229067Z"
    },
    "papermill": {
     "duration": 0.023254,
     "end_time": "2022-07-13T14:28:32.231976",
     "exception": false,
     "start_time": "2022-07-13T14:28:32.208722",
     "status": "completed"
    },
    "tags": []
   },
   "outputs": [
    {
     "data": {
      "text/html": [
       "<div>\n",
       "<style scoped>\n",
       "    .dataframe tbody tr th:only-of-type {\n",
       "        vertical-align: middle;\n",
       "    }\n",
       "\n",
       "    .dataframe tbody tr th {\n",
       "        vertical-align: top;\n",
       "    }\n",
       "\n",
       "    .dataframe thead th {\n",
       "        text-align: right;\n",
       "    }\n",
       "</style>\n",
       "<table border=\"1\" class=\"dataframe\">\n",
       "  <thead>\n",
       "    <tr style=\"text-align: right;\">\n",
       "      <th></th>\n",
       "      <th>make</th>\n",
       "      <th>body_style</th>\n",
       "      <th>horsepower</th>\n",
       "      <th>curb_weight</th>\n",
       "    </tr>\n",
       "  </thead>\n",
       "  <tbody>\n",
       "    <tr>\n",
       "      <th>118</th>\n",
       "      <td>porsche</td>\n",
       "      <td>hardtop</td>\n",
       "      <td>207</td>\n",
       "      <td>2756</td>\n",
       "    </tr>\n",
       "    <tr>\n",
       "      <th>117</th>\n",
       "      <td>porsche</td>\n",
       "      <td>hardtop</td>\n",
       "      <td>207</td>\n",
       "      <td>2756</td>\n",
       "    </tr>\n",
       "    <tr>\n",
       "      <th>119</th>\n",
       "      <td>porsche</td>\n",
       "      <td>convertible</td>\n",
       "      <td>207</td>\n",
       "      <td>2800</td>\n",
       "    </tr>\n",
       "    <tr>\n",
       "      <th>45</th>\n",
       "      <td>jaguar</td>\n",
       "      <td>sedan</td>\n",
       "      <td>262</td>\n",
       "      <td>3950</td>\n",
       "    </tr>\n",
       "    <tr>\n",
       "      <th>96</th>\n",
       "      <td>nissan</td>\n",
       "      <td>hatchback</td>\n",
       "      <td>200</td>\n",
       "      <td>3139</td>\n",
       "    </tr>\n",
       "    <tr>\n",
       "      <th>...</th>\n",
       "      <td>...</td>\n",
       "      <td>...</td>\n",
       "      <td>...</td>\n",
       "      <td>...</td>\n",
       "    </tr>\n",
       "    <tr>\n",
       "      <th>59</th>\n",
       "      <td>mercedes-benz</td>\n",
       "      <td>wagon</td>\n",
       "      <td>123</td>\n",
       "      <td>3750</td>\n",
       "    </tr>\n",
       "    <tr>\n",
       "      <th>61</th>\n",
       "      <td>mercedes-benz</td>\n",
       "      <td>sedan</td>\n",
       "      <td>123</td>\n",
       "      <td>3770</td>\n",
       "    </tr>\n",
       "    <tr>\n",
       "      <th>101</th>\n",
       "      <td>peugot</td>\n",
       "      <td>wagon</td>\n",
       "      <td>95</td>\n",
       "      <td>3430</td>\n",
       "    </tr>\n",
       "    <tr>\n",
       "      <th>105</th>\n",
       "      <td>peugot</td>\n",
       "      <td>wagon</td>\n",
       "      <td>95</td>\n",
       "      <td>3485</td>\n",
       "    </tr>\n",
       "    <tr>\n",
       "      <th>143</th>\n",
       "      <td>toyota</td>\n",
       "      <td>wagon</td>\n",
       "      <td>62</td>\n",
       "      <td>3110</td>\n",
       "    </tr>\n",
       "  </tbody>\n",
       "</table>\n",
       "<p>193 rows × 4 columns</p>\n",
       "</div>"
      ],
      "text/plain": [
       "              make   body_style  horsepower  curb_weight\n",
       "118        porsche      hardtop         207         2756\n",
       "117        porsche      hardtop         207         2756\n",
       "119        porsche  convertible         207         2800\n",
       "45          jaguar        sedan         262         3950\n",
       "96          nissan    hatchback         200         3139\n",
       "..             ...          ...         ...          ...\n",
       "59   mercedes-benz        wagon         123         3750\n",
       "61   mercedes-benz        sedan         123         3770\n",
       "101         peugot        wagon          95         3430\n",
       "105         peugot        wagon          95         3485\n",
       "143         toyota        wagon          62         3110\n",
       "\n",
       "[193 rows x 4 columns]"
      ]
     },
     "execution_count": 7,
     "metadata": {},
     "output_type": "execute_result"
    }
   ],
   "source": [
    "# Show dataframe sorted by PC3\n",
    "idx = X_pca[\"PC3\"].sort_values(ascending=False).index\n",
    "cols = [\"make\", \"body_style\", \"horsepower\", \"curb_weight\"]\n",
    "df.loc[idx, cols]"
   ]
  },
  {
   "cell_type": "markdown",
   "id": "af46d6c7",
   "metadata": {
    "papermill": {
     "duration": 0.006135,
     "end_time": "2022-07-13T14:28:32.244542",
     "exception": false,
     "start_time": "2022-07-13T14:28:32.238407",
     "status": "completed"
    },
    "tags": []
   },
   "source": [
    "To express this contrast, let's create a new ratio feature:"
   ]
  },
  {
   "cell_type": "code",
   "execution_count": 8,
   "id": "204484b5",
   "metadata": {
    "execution": {
     "iopub.execute_input": "2022-07-13T14:28:32.259233Z",
     "iopub.status.busy": "2022-07-13T14:28:32.258889Z",
     "iopub.status.idle": "2022-07-13T14:28:32.699578Z",
     "shell.execute_reply": "2022-07-13T14:28:32.698526Z"
    },
    "papermill": {
     "duration": 0.451104,
     "end_time": "2022-07-13T14:28:32.702086",
     "exception": false,
     "start_time": "2022-07-13T14:28:32.250982",
     "status": "completed"
    },
    "tags": []
   },
   "outputs": [
    {
     "data": {
      "image/png": "[encoded data removed]",
      "text/plain": [
       "<Figure size 432x288 with 1 Axes>"
      ]
     },
     "metadata": {
      "needs_background": "light"
     },
     "output_type": "display_data"
    }
   ],
   "source": [
    "df[\"sports_or_wagon\"] = X.curb_weight / X.horsepower\n",
    "sns.regplot(x=\"sports_or_wagon\", y='price', data=df, order=2);"
   ]
  },
  {
   "cell_type": "markdown",
   "id": "1511e93e",
   "metadata": {
    "papermill": {
     "duration": 0.006607,
     "end_time": "2022-07-13T14:28:32.717688",
     "exception": false,
     "start_time": "2022-07-13T14:28:32.711081",
     "status": "completed"
    },
    "tags": []
   },
   "source": [
    "# Your Turn #\n",
    "\n",
    "[**Improve your feature set**](./5-exercise-principal-component-analysis.ipynb) by decomposing the variation in *Ames Housing* and use principal components to detect outliers."
   ]
  },
  {
   "cell_type": "markdown",
   "id": "e785041c",
   "metadata": {
    "papermill": {
     "duration": 0.006798,
     "end_time": "2022-07-13T14:28:32.731851",
     "exception": false,
     "start_time": "2022-07-13T14:28:32.725053",
     "status": "completed"
    },
    "tags": []
   },
   "source": [
    "---\n",
    "\n",
    "\n",
    "\n",
    "\n",
    "*Have questions or comments? Visit the [course discussion forum](https://www.kaggle.com/learn/feature-engineering/discussion) to chat with other learners.*"
   ]
  }
 ],
 "metadata": {
  "jupytext": {
   "cell_metadata_filter": "-all",
   "formats": "ipynb"
  },
  "kernelspec": {
   "display_name": "Python 3.10.5 ('kaggle')",
   "language": "python",
   "name": "python3"
  },
  "language_info": {
   "codemirror_mode": {
    "name": "ipython",
    "version": 3
   },
   "file_extension": ".py",
   "mimetype": "text/x-python",
   "name": "python",
   "nbconvert_exporter": "python",
   "pygments_lexer": "ipython3",
   "version": "3.10.5"
  },
  "papermill": {
   "default_parameters": {},
   "duration": 12.670466,
   "end_time": "2022-07-13T14:28:33.462801",
   "environment_variables": {},
   "exception": null,
   "input_path": "__notebook__.ipynb",
   "output_path": "__notebook__.ipynb",
   "parameters": {},
   "start_time": "2022-07-13T14:28:20.792335",
   "version": "2.3.4"
  },
  "vscode": {
   "interpreter": {
    "hash": "e4ed1ec8855a62064c619c0d2fa574b8b147199d51dd235074c0ce2edf822ef7"
   }
  }
 },
 "nbformat": 4,
 "nbformat_minor": 5
}
